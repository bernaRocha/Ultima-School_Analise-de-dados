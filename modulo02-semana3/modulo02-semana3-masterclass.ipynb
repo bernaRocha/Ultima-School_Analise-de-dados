{
 "cells": [
  {
   "cell_type": "code",
   "execution_count": 1,
   "id": "f3d7b3d3",
   "metadata": {},
   "outputs": [],
   "source": [
    "import pandas as pd\n",
    "import seaborn as sns\n",
    "import numpy as np\n",
    "import matplotlib.pyplot as plt\n",
    "import scipy\n",
    "import statistics"
   ]
  },
  {
   "cell_type": "markdown",
   "id": "69738b99",
   "metadata": {},
   "source": [
    "# Dataset\n",
    "\n",
    "Vamos supor que temos um site e aplicativo móvel que usa análises de mídia social para classificar os usuários de acordo com sua influência social online.\n",
    "\n",
    "O site calculou um \"score\", que é um valor numérico entre 0 e 5, onde pontuações mais altas correspondiam a maior \"influência social\" online."
   ]
  },
  {
   "cell_type": "code",
   "execution_count": 2,
   "id": "10df94ea",
   "metadata": {},
   "outputs": [],
   "source": [
    "from numpy.random import seed\n",
    "from numpy.random import normal"
   ]
  },
  {
   "cell_type": "code",
   "execution_count": 3,
   "id": "168f5484",
   "metadata": {},
   "outputs": [],
   "source": [
    "seed(1)\n",
    "data = normal(loc=0, scale=1, size=200)+2.5"
   ]
  },
  {
   "cell_type": "code",
   "execution_count": 5,
   "id": "0d7a890c",
   "metadata": {},
   "outputs": [],
   "source": [
    "df = pd.DataFrame(data, columns=['score'])\n",
    "df['score'] = np.where(df['score']>=5, 5, df['score'])\n",
    "df['score'] = np.where(df['score']<=0, 0, df['score'])"
   ]
  },
  {
   "cell_type": "markdown",
   "id": "30da14d7",
   "metadata": {},
   "source": [
    "## Análise exploratória (EDA)"
   ]
  },
  {
   "cell_type": "code",
   "execution_count": 7,
   "id": "e6f41797",
   "metadata": {},
   "outputs": [
    {
     "data": {
      "image/png": "[encoded data removed]",
      "text/plain": [
       "<Figure size 640x480 with 1 Axes>"
      ]
     },
     "metadata": {},
     "output_type": "display_data"
    }
   ],
   "source": [
    "plt.hist(df.score, bins = 20);"
   ]
  },
  {
   "cell_type": "code",
   "execution_count": 8,
   "id": "b7c12a3d",
   "metadata": {},
   "outputs": [
    {
     "name": "stdout",
     "output_type": "stream",
     "text": [
      "Média: 2.6065471863139167\n",
      "Mediana: 2.6297612404944113\n",
      "Desvio padrão: 0.9119539666106046\n"
     ]
    }
   ],
   "source": [
    "mean = df.score.mean()\n",
    "median = df.score.median()\n",
    "std = df.score.std()\n",
    "print(f\"Média: {mean}\")\n",
    "print(f\"Mediana: {median}\")\n",
    "print(f\"Desvio padrão: {std}\")"
   ]
  },
  {
   "cell_type": "markdown",
   "id": "cc944a3f",
   "metadata": {},
   "source": [
    "### Z-score\n",
    "\n",
    "Vamos supor que fazemos um sorteio para selecionarmos 30 pessoas aleatórias dessa população de 1048 para que essas pessoas de score ??? sejam nossas novas influencers. Qual a probabilidade da <b>média</b> dessas 30 pessoas ser menor que 3? Use média da população = 2.6 e desvio da população = 0.91"
   ]
  },
  {
   "cell_type": "code",
   "execution_count": 9,
   "id": "83b2fc00",
   "metadata": {},
   "outputs": [],
   "source": [
    "import scipy.stats as st"
   ]
  },
  {
   "cell_type": "code",
   "execution_count": 10,
   "id": "0095ae75",
   "metadata": {},
   "outputs": [
    {
     "data": {
      "text/plain": [
       "0.6669255232810484"
      ]
     },
     "execution_count": 10,
     "metadata": {},
     "output_type": "execute_result"
    }
   ],
   "source": [
    "# 3 pq queremos menor que 3\n",
    "z = (3-mean)/std\n",
    "st.norm.cdf(z)\n",
    "# A área abaixo da curva é de 0.6669255232810484"
   ]
  },
  {
   "cell_type": "markdown",
   "id": "5f2467a0",
   "metadata": {},
   "source": [
    "Logo a probabilidade de selecionarmos uma amostra menor que 3 é de 66.6%"
   ]
  },
  {
   "cell_type": "code",
   "execution_count": 13,
   "id": "47c03159",
   "metadata": {},
   "outputs": [
    {
     "data": {
      "text/plain": [
       "1.9599639845400545"
      ]
     },
     "execution_count": 13,
     "metadata": {},
     "output_type": "execute_result"
    }
   ],
   "source": [
    "alpha = 0.05 # 1 - confiança = 1-0.95 = 0.05\n",
    "area_rejeicao = alpha / 2 # 2 pq é bilateral\n",
    "\n",
    "critical_value = st.norm.ppf(area_rejeicao)*(-1) # se não multiplicarmos por -1 ele dá a simetria de z-score\n",
    "critical_value"
   ]
  }
 ],
 "metadata": {
  "kernelspec": {
   "display_name": "Python 3 (ipykernel)",
   "language": "python",
   "name": "python3"
  },
  "language_info": {
   "codemirror_mode": {
    "name": "ipython",
    "version": 3
   },
   "file_extension": ".py",
   "mimetype": "text/x-python",
   "name": "python",
   "nbconvert_exporter": "python",
   "pygments_lexer": "ipython3",
   "version": "3.8.10"
  }
 },
 "nbformat": 4,
 "nbformat_minor": 5
}
