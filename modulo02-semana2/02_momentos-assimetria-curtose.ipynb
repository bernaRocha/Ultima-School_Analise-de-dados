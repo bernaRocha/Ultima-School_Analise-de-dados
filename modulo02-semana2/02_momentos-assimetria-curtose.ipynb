{
 "cells": [
  {
   "cell_type": "code",
   "execution_count": 1,
   "id": "c0cbb490",
   "metadata": {},
   "outputs": [],
   "source": [
    "import pandas as pd\n",
    "import numpy as np\n",
    "import matplotlib.pyplot as plt"
   ]
  },
  {
   "cell_type": "markdown",
   "id": "8643df5d",
   "metadata": {},
   "source": [
    "# Importando e preparando os dados\n",
    "\n",
    "Dataset: Soccer Stats LaLiga - From 2014/2015 to 2018/2019 \n",
    "##### Link: https://www.kaggle.com/datasets/navarrojavier/la-liga-stats\n",
    "##### Download em: 29-11-2022"
   ]
  },
  {
   "cell_type": "code",
   "execution_count": 2,
   "id": "4f166f06",
   "metadata": {},
   "outputs": [
    {
     "data": {
      "text/html": [
       "<div>\n",
       "<style scoped>\n",
       "    .dataframe tbody tr th:only-of-type {\n",
       "        vertical-align: middle;\n",
       "    }\n",
       "\n",
       "    .dataframe tbody tr th {\n",
       "        vertical-align: top;\n",
       "    }\n",
       "\n",
       "    .dataframe thead th {\n",
       "        text-align: right;\n",
       "    }\n",
       "</style>\n",
       "<table border=\"1\" class=\"dataframe\">\n",
       "  <thead>\n",
       "    <tr style=\"text-align: right;\">\n",
       "      <th></th>\n",
       "      <th>id_stat</th>\n",
       "      <th>stat</th>\n",
       "    </tr>\n",
       "  </thead>\n",
       "  <tbody>\n",
       "    <tr>\n",
       "      <th>0</th>\n",
       "      <td>1</td>\n",
       "      <td>Corners</td>\n",
       "    </tr>\n",
       "    <tr>\n",
       "      <th>1</th>\n",
       "      <td>4</td>\n",
       "      <td>Fouls</td>\n",
       "    </tr>\n",
       "    <tr>\n",
       "      <th>2</th>\n",
       "      <td>5</td>\n",
       "      <td>Offsides</td>\n",
       "    </tr>\n",
       "    <tr>\n",
       "      <th>3</th>\n",
       "      <td>6</td>\n",
       "      <td>Posession</td>\n",
       "    </tr>\n",
       "    <tr>\n",
       "      <th>4</th>\n",
       "      <td>2</td>\n",
       "      <td>Shots on target</td>\n",
       "    </tr>\n",
       "    <tr>\n",
       "      <th>5</th>\n",
       "      <td>3</td>\n",
       "      <td>Shots wide</td>\n",
       "    </tr>\n",
       "  </tbody>\n",
       "</table>\n",
       "</div>"
      ],
      "text/plain": [
       "   id_stat             stat\n",
       "0        1          Corners\n",
       "1        4            Fouls\n",
       "2        5         Offsides\n",
       "3        6        Posession\n",
       "4        2  Shots on target\n",
       "5        3       Shots wide"
      ]
     },
     "execution_count": 2,
     "metadata": {},
     "output_type": "execute_result"
    }
   ],
   "source": [
    "df_stats_code = pd.read_csv('data-laliga/tbl_stats_code.csv')\n",
    "df_stats_code"
   ]
  },
  {
   "cell_type": "code",
   "execution_count": 3,
   "id": "65c228ea",
   "metadata": {},
   "outputs": [
    {
     "data": {
      "text/html": [
       "<div>\n",
       "<style scoped>\n",
       "    .dataframe tbody tr th:only-of-type {\n",
       "        vertical-align: middle;\n",
       "    }\n",
       "\n",
       "    .dataframe tbody tr th {\n",
       "        vertical-align: top;\n",
       "    }\n",
       "\n",
       "    .dataframe thead th {\n",
       "        text-align: right;\n",
       "    }\n",
       "</style>\n",
       "<table border=\"1\" class=\"dataframe\">\n",
       "  <thead>\n",
       "    <tr style=\"text-align: right;\">\n",
       "      <th></th>\n",
       "      <th>id_stat</th>\n",
       "      <th>id_match</th>\n",
       "      <th>id_team</th>\n",
       "      <th>id_stat_code</th>\n",
       "      <th>occurrences/percentage</th>\n",
       "    </tr>\n",
       "  </thead>\n",
       "  <tbody>\n",
       "    <tr>\n",
       "      <th>0</th>\n",
       "      <td>10,527</td>\n",
       "      <td>762</td>\n",
       "      <td>14</td>\n",
       "      <td>1</td>\n",
       "      <td>5</td>\n",
       "    </tr>\n",
       "    <tr>\n",
       "      <th>1</th>\n",
       "      <td>10,528</td>\n",
       "      <td>762</td>\n",
       "      <td>14</td>\n",
       "      <td>2</td>\n",
       "      <td>1</td>\n",
       "    </tr>\n",
       "    <tr>\n",
       "      <th>2</th>\n",
       "      <td>10,529</td>\n",
       "      <td>762</td>\n",
       "      <td>14</td>\n",
       "      <td>3</td>\n",
       "      <td>3</td>\n",
       "    </tr>\n",
       "    <tr>\n",
       "      <th>3</th>\n",
       "      <td>10,530</td>\n",
       "      <td>762</td>\n",
       "      <td>14</td>\n",
       "      <td>4</td>\n",
       "      <td>14</td>\n",
       "    </tr>\n",
       "    <tr>\n",
       "      <th>4</th>\n",
       "      <td>10,531</td>\n",
       "      <td>762</td>\n",
       "      <td>14</td>\n",
       "      <td>5</td>\n",
       "      <td>2</td>\n",
       "    </tr>\n",
       "    <tr>\n",
       "      <th>...</th>\n",
       "      <td>...</td>\n",
       "      <td>...</td>\n",
       "      <td>...</td>\n",
       "      <td>...</td>\n",
       "      <td>...</td>\n",
       "    </tr>\n",
       "    <tr>\n",
       "      <th>22699</th>\n",
       "      <td>33,226</td>\n",
       "      <td>3,801</td>\n",
       "      <td>14</td>\n",
       "      <td>2</td>\n",
       "      <td>3</td>\n",
       "    </tr>\n",
       "    <tr>\n",
       "      <th>22700</th>\n",
       "      <td>33,227</td>\n",
       "      <td>3,801</td>\n",
       "      <td>14</td>\n",
       "      <td>3</td>\n",
       "      <td>6</td>\n",
       "    </tr>\n",
       "    <tr>\n",
       "      <th>22701</th>\n",
       "      <td>33,228</td>\n",
       "      <td>3,801</td>\n",
       "      <td>14</td>\n",
       "      <td>4</td>\n",
       "      <td>11</td>\n",
       "    </tr>\n",
       "    <tr>\n",
       "      <th>22702</th>\n",
       "      <td>33,229</td>\n",
       "      <td>3,801</td>\n",
       "      <td>14</td>\n",
       "      <td>5</td>\n",
       "      <td>1</td>\n",
       "    </tr>\n",
       "    <tr>\n",
       "      <th>22703</th>\n",
       "      <td>33,230</td>\n",
       "      <td>3,801</td>\n",
       "      <td>14</td>\n",
       "      <td>6</td>\n",
       "      <td>47</td>\n",
       "    </tr>\n",
       "  </tbody>\n",
       "</table>\n",
       "<p>22704 rows × 5 columns</p>\n",
       "</div>"
      ],
      "text/plain": [
       "      id_stat id_match  id_team  id_stat_code  occurrences/percentage\n",
       "0      10,527      762       14             1                       5\n",
       "1      10,528      762       14             2                       1\n",
       "2      10,529      762       14             3                       3\n",
       "3      10,530      762       14             4                      14\n",
       "4      10,531      762       14             5                       2\n",
       "...       ...      ...      ...           ...                     ...\n",
       "22699  33,226    3,801       14             2                       3\n",
       "22700  33,227    3,801       14             3                       6\n",
       "22701  33,228    3,801       14             4                      11\n",
       "22702  33,229    3,801       14             5                       1\n",
       "22703  33,230    3,801       14             6                      47\n",
       "\n",
       "[22704 rows x 5 columns]"
      ]
     },
     "execution_count": 3,
     "metadata": {},
     "output_type": "execute_result"
    }
   ],
   "source": [
    "df_stats = pd.read_csv('data-laliga/tbl_stats.csv')\n",
    "df_stats"
   ]
  },
  {
   "cell_type": "markdown",
   "id": "347e23d5",
   "metadata": {},
   "source": [
    "##### Fazendo um join com dataframes"
   ]
  },
  {
   "cell_type": "code",
   "execution_count": 4,
   "id": "bfbe8356",
   "metadata": {},
   "outputs": [
    {
     "data": {
      "text/html": [
       "<div>\n",
       "<style scoped>\n",
       "    .dataframe tbody tr th:only-of-type {\n",
       "        vertical-align: middle;\n",
       "    }\n",
       "\n",
       "    .dataframe tbody tr th {\n",
       "        vertical-align: top;\n",
       "    }\n",
       "\n",
       "    .dataframe thead th {\n",
       "        text-align: right;\n",
       "    }\n",
       "</style>\n",
       "<table border=\"1\" class=\"dataframe\">\n",
       "  <thead>\n",
       "    <tr style=\"text-align: right;\">\n",
       "      <th></th>\n",
       "      <th>id_stat</th>\n",
       "      <th>id_match</th>\n",
       "      <th>id_team</th>\n",
       "      <th>occurrences/percentage</th>\n",
       "      <th>stat</th>\n",
       "    </tr>\n",
       "    <tr>\n",
       "      <th>id_stat_code</th>\n",
       "      <th></th>\n",
       "      <th></th>\n",
       "      <th></th>\n",
       "      <th></th>\n",
       "      <th></th>\n",
       "    </tr>\n",
       "  </thead>\n",
       "  <tbody>\n",
       "    <tr>\n",
       "      <th>1</th>\n",
       "      <td>10,527</td>\n",
       "      <td>762</td>\n",
       "      <td>14</td>\n",
       "      <td>5</td>\n",
       "      <td>Corners</td>\n",
       "    </tr>\n",
       "    <tr>\n",
       "      <th>1</th>\n",
       "      <td>10,533</td>\n",
       "      <td>762</td>\n",
       "      <td>17</td>\n",
       "      <td>5</td>\n",
       "      <td>Corners</td>\n",
       "    </tr>\n",
       "    <tr>\n",
       "      <th>1</th>\n",
       "      <td>10,539</td>\n",
       "      <td>763</td>\n",
       "      <td>133</td>\n",
       "      <td>5</td>\n",
       "      <td>Corners</td>\n",
       "    </tr>\n",
       "    <tr>\n",
       "      <th>1</th>\n",
       "      <td>10,545</td>\n",
       "      <td>763</td>\n",
       "      <td>11</td>\n",
       "      <td>0</td>\n",
       "      <td>Corners</td>\n",
       "    </tr>\n",
       "    <tr>\n",
       "      <th>1</th>\n",
       "      <td>10,551</td>\n",
       "      <td>764</td>\n",
       "      <td>132</td>\n",
       "      <td>5</td>\n",
       "      <td>Corners</td>\n",
       "    </tr>\n",
       "    <tr>\n",
       "      <th>...</th>\n",
       "      <td>...</td>\n",
       "      <td>...</td>\n",
       "      <td>...</td>\n",
       "      <td>...</td>\n",
       "      <td>...</td>\n",
       "    </tr>\n",
       "    <tr>\n",
       "      <th>6</th>\n",
       "      <td>33,206</td>\n",
       "      <td>3,799</td>\n",
       "      <td>4</td>\n",
       "      <td>49</td>\n",
       "      <td>Posession</td>\n",
       "    </tr>\n",
       "    <tr>\n",
       "      <th>6</th>\n",
       "      <td>33,212</td>\n",
       "      <td>3,800</td>\n",
       "      <td>8</td>\n",
       "      <td>51</td>\n",
       "      <td>Posession</td>\n",
       "    </tr>\n",
       "    <tr>\n",
       "      <th>6</th>\n",
       "      <td>33,218</td>\n",
       "      <td>3,800</td>\n",
       "      <td>5</td>\n",
       "      <td>49</td>\n",
       "      <td>Posession</td>\n",
       "    </tr>\n",
       "    <tr>\n",
       "      <th>6</th>\n",
       "      <td>33,224</td>\n",
       "      <td>3,801</td>\n",
       "      <td>3</td>\n",
       "      <td>53</td>\n",
       "      <td>Posession</td>\n",
       "    </tr>\n",
       "    <tr>\n",
       "      <th>6</th>\n",
       "      <td>33,230</td>\n",
       "      <td>3,801</td>\n",
       "      <td>14</td>\n",
       "      <td>47</td>\n",
       "      <td>Posession</td>\n",
       "    </tr>\n",
       "  </tbody>\n",
       "</table>\n",
       "<p>22704 rows × 5 columns</p>\n",
       "</div>"
      ],
      "text/plain": [
       "             id_stat id_match  id_team  occurrences/percentage       stat\n",
       "id_stat_code                                                             \n",
       "1             10,527      762       14                       5    Corners\n",
       "1             10,533      762       17                       5    Corners\n",
       "1             10,539      763      133                       5    Corners\n",
       "1             10,545      763       11                       0    Corners\n",
       "1             10,551      764      132                       5    Corners\n",
       "...              ...      ...      ...                     ...        ...\n",
       "6             33,206    3,799        4                      49  Posession\n",
       "6             33,212    3,800        8                      51  Posession\n",
       "6             33,218    3,800        5                      49  Posession\n",
       "6             33,224    3,801        3                      53  Posession\n",
       "6             33,230    3,801       14                      47  Posession\n",
       "\n",
       "[22704 rows x 5 columns]"
      ]
     },
     "execution_count": 4,
     "metadata": {},
     "output_type": "execute_result"
    }
   ],
   "source": [
    "left_df = df_stats\\\n",
    "    .set_index('id_stat_code') # o id da tabela passa a ser a coluna id_stat_code\n",
    "\n",
    "right_df = df_stats_code\\\n",
    "    .rename(columns={'id_stat': 'id_stat_code'})\\\n",
    "    .set_index('id_stat_code')\n",
    "\n",
    "df_stats_join = left_df\\\n",
    "    .join(right_df, how='left')\n",
    "\n",
    "df_stats_join"
   ]
  },
  {
   "cell_type": "code",
   "execution_count": 5,
   "id": "817bb6ed",
   "metadata": {},
   "outputs": [
    {
     "data": {
      "text/plain": [
       "id_stat_code\n",
       "6    53\n",
       "6    47\n",
       "6    67\n",
       "6    33\n",
       "6    40\n",
       "     ..\n",
       "6    49\n",
       "6    51\n",
       "6    49\n",
       "6    53\n",
       "6    47\n",
       "Name: occurrences/percentage, Length: 3784, dtype: int64"
      ]
     },
     "execution_count": 5,
     "metadata": {},
     "output_type": "execute_result"
    }
   ],
   "source": [
    "# loc = localizar\n",
    "possession = df_stats_join.loc[6]['occurrences/percentage']\n",
    "possession"
   ]
  },
  {
   "cell_type": "markdown",
   "id": "61d61a7f",
   "metadata": {},
   "source": [
    "## 2 histograma"
   ]
  },
  {
   "cell_type": "code",
   "execution_count": 6,
   "id": "807aca67",
   "metadata": {},
   "outputs": [
    {
     "data": {
      "text/plain": [
       "<AxesSubplot: >"
      ]
     },
     "execution_count": 6,
     "metadata": {},
     "output_type": "execute_result"
    },
    {
     "data": {
      "image/png": "[encoded data removed]",
      "text/plain": [
       "<Figure size 640x480 with 1 Axes>"
      ]
     },
     "metadata": {},
     "output_type": "display_data"
    }
   ],
   "source": [
    "# Básico com o Pandas \n",
    "# Frequencia de ocorrencias\n",
    "\n",
    "possession.hist()"
   ]
  },
  {
   "cell_type": "code",
   "execution_count": 16,
   "id": "1778595c",
   "metadata": {},
   "outputs": [
    {
     "data": {
      "text/plain": [
       "<AxesSubplot: >"
      ]
     },
     "execution_count": 16,
     "metadata": {},
     "output_type": "execute_result"
    },
    {
     "data": {
      "image/png": "[encoded data removed]",
      "text/plain": [
       "<Figure size 900x400 with 1 Axes>"
      ]
     },
     "metadata": {},
     "output_type": "display_data"
    }
   ],
   "source": [
    "possession.hist(figsize=(9,4), grid=False, bins=60, legend=True)"
   ]
  },
  {
   "cell_type": "code",
   "execution_count": 20,
   "id": "3f63ff94",
   "metadata": {},
   "outputs": [
    {
     "data": {
      "text/plain": [
       "(array([  1.,   0.,   0.,   0.,   0.,   5.,   2.,   2.,   8.,  22.,   0.,\n",
       "          7.,  22.,  26.,  36.,  59.,  58.,  73.,  81.,  81.,  79., 111.,\n",
       "        113., 127., 131., 144., 149., 148., 149., 158., 358., 149., 148.,\n",
       "        149., 144., 131., 127., 113., 111.,  79.,  81.,  81.,  73.,  58.,\n",
       "         37.,  58.,  26.,  22.,   7.,   0.,  22.,   8.,   2.,   2.,   5.,\n",
       "          0.,   0.,   0.,   0.,   1.]),\n",
       " array([18.        , 19.06666667, 20.13333333, 21.2       , 22.26666667,\n",
       "        23.33333333, 24.4       , 25.46666667, 26.53333333, 27.6       ,\n",
       "        28.66666667, 29.73333333, 30.8       , 31.86666667, 32.93333333,\n",
       "        34.        , 35.06666667, 36.13333333, 37.2       , 38.26666667,\n",
       "        39.33333333, 40.4       , 41.46666667, 42.53333333, 43.6       ,\n",
       "        44.66666667, 45.73333333, 46.8       , 47.86666667, 48.93333333,\n",
       "        50.        , 51.06666667, 52.13333333, 53.2       , 54.26666667,\n",
       "        55.33333333, 56.4       , 57.46666667, 58.53333333, 59.6       ,\n",
       "        60.66666667, 61.73333333, 62.8       , 63.86666667, 64.93333333,\n",
       "        66.        , 67.06666667, 68.13333333, 69.2       , 70.26666667,\n",
       "        71.33333333, 72.4       , 73.46666667, 74.53333333, 75.6       ,\n",
       "        76.66666667, 77.73333333, 78.8       , 79.86666667, 80.93333333,\n",
       "        82.        ]),\n",
       " <BarContainer object of 60 artists>)"
      ]
     },
     "execution_count": 20,
     "metadata": {},
     "output_type": "execute_result"
    },
    {
     "data": {
      "image/png": "[encoded data removed]",
      "text/plain": [
       "<Figure size 600x400 with 1 Axes>"
      ]
     },
     "metadata": {},
     "output_type": "display_data"
    }
   ],
   "source": [
    "# Com Matplotlib\n",
    "fig, ax = plt.subplots(*(1, 1), figsize=(6, 4))\n",
    "\n",
    "ax.hist(x=possession, bins=60)\n",
    "#ax.hist(x=possession, bins=60, histtype='step')"
   ]
  },
  {
   "cell_type": "code",
   "execution_count": 21,
   "id": "ed01c6d1",
   "metadata": {},
   "outputs": [
    {
     "data": {
      "text/plain": [
       "(array([0.00024775, 0.        , 0.        , 0.        , 0.        ,\n",
       "        0.00123877, 0.00049551, 0.00049551, 0.00198203, 0.00545058,\n",
       "        0.        , 0.00173428, 0.00545058, 0.0064416 , 0.00891913,\n",
       "        0.01461747, 0.01436971, 0.01808602, 0.02006805, 0.02006805,\n",
       "        0.01957254, 0.02750066, 0.02799617, 0.03146472, 0.03245573,\n",
       "        0.03567653, 0.0369153 , 0.03666755, 0.0369153 , 0.03914508,\n",
       "        0.08869582, 0.0369153 , 0.03666755, 0.0369153 , 0.03567653,\n",
       "        0.03245573, 0.03146472, 0.02799617, 0.02750066, 0.01957254,\n",
       "        0.02006805, 0.02006805, 0.01808602, 0.01436971, 0.00916689,\n",
       "        0.01436971, 0.0064416 , 0.00545058, 0.00173428, 0.        ,\n",
       "        0.00545058, 0.00198203, 0.00049551, 0.00049551, 0.00123877,\n",
       "        0.        , 0.        , 0.        , 0.        , 0.00024775]),\n",
       " array([18.        , 19.06666667, 20.13333333, 21.2       , 22.26666667,\n",
       "        23.33333333, 24.4       , 25.46666667, 26.53333333, 27.6       ,\n",
       "        28.66666667, 29.73333333, 30.8       , 31.86666667, 32.93333333,\n",
       "        34.        , 35.06666667, 36.13333333, 37.2       , 38.26666667,\n",
       "        39.33333333, 40.4       , 41.46666667, 42.53333333, 43.6       ,\n",
       "        44.66666667, 45.73333333, 46.8       , 47.86666667, 48.93333333,\n",
       "        50.        , 51.06666667, 52.13333333, 53.2       , 54.26666667,\n",
       "        55.33333333, 56.4       , 57.46666667, 58.53333333, 59.6       ,\n",
       "        60.66666667, 61.73333333, 62.8       , 63.86666667, 64.93333333,\n",
       "        66.        , 67.06666667, 68.13333333, 69.2       , 70.26666667,\n",
       "        71.33333333, 72.4       , 73.46666667, 74.53333333, 75.6       ,\n",
       "        76.66666667, 77.73333333, 78.8       , 79.86666667, 80.93333333,\n",
       "        82.        ]),\n",
       " <BarContainer object of 60 artists>)"
      ]
     },
     "execution_count": 21,
     "metadata": {},
     "output_type": "execute_result"
    },
    {
     "data": {
      "image/png": "[encoded data removed]",
      "text/plain": [
       "<Figure size 600x400 with 1 Axes>"
      ]
     },
     "metadata": {},
     "output_type": "display_data"
    }
   ],
   "source": [
    "fig, ax = plt.subplots(*(1, 1), figsize=(6, 4))\n",
    "\n",
    "ax.hist(x=possession, bins=60, density=True)"
   ]
  },
  {
   "cell_type": "markdown",
   "id": "073b373f",
   "metadata": {},
   "source": [
    "## 3 Momentos"
   ]
  },
  {
   "cell_type": "code",
   "execution_count": 9,
   "id": "2ad901fd",
   "metadata": {},
   "outputs": [
    {
     "data": {
      "text/plain": [
       "mean        50.000000\n",
       "median      50.000000\n",
       "var         81.160455\n",
       "std          9.008910\n",
       "skew         0.000000\n",
       "kurtosis    -0.189924\n",
       "Name: occurrences/percentage, dtype: float64"
      ]
     },
     "execution_count": 9,
     "metadata": {},
     "output_type": "execute_result"
    }
   ],
   "source": [
    "possession.agg(['mean', 'median', 'var', 'std', 'skew', 'kurtosis'])"
   ]
  },
  {
   "cell_type": "code",
   "execution_count": 10,
   "id": "0156014e",
   "metadata": {},
   "outputs": [
    {
     "data": {
      "text/plain": [
       "count    3784.00000\n",
       "mean       50.00000\n",
       "std         9.00891\n",
       "min        18.00000\n",
       "25%        44.00000\n",
       "50%        50.00000\n",
       "75%        56.00000\n",
       "max        82.00000\n",
       "Name: occurrences/percentage, dtype: float64"
      ]
     },
     "execution_count": 10,
     "metadata": {},
     "output_type": "execute_result"
    }
   ],
   "source": [
    "possession.describe()"
   ]
  },
  {
   "cell_type": "code",
   "execution_count": 11,
   "id": "2bbcebdb",
   "metadata": {},
   "outputs": [],
   "source": [
    "# removendo a média e calculando o desvio padrão\n",
    "possession_media_zero = (possession - possession.mean())\n",
    "desvio_padrao = possession.std()\n"
   ]
  },
  {
   "cell_type": "code",
   "execution_count": 12,
   "id": "98d91b43",
   "metadata": {},
   "outputs": [
    {
     "data": {
      "text/plain": [
       "0.0"
      ]
     },
     "execution_count": 12,
     "metadata": {},
     "output_type": "execute_result"
    }
   ],
   "source": [
    "# cálculo de assimetria\n",
    "assimetria = (possession_media_zero**3).mean() / (desvio_padrao**3)\n",
    "assimetria"
   ]
  },
  {
   "cell_type": "code",
   "execution_count": 13,
   "id": "b33e4a65",
   "metadata": {},
   "outputs": [
    {
     "data": {
      "text/plain": [
       "2.807257612618744"
      ]
     },
     "execution_count": 13,
     "metadata": {},
     "output_type": "execute_result"
    }
   ],
   "source": [
    "# cálculo de curtose, definição formal\n",
    "curtose = (possession_media_zero**4).mean() / (desvio_padrao**4)\n",
    "curtose"
   ]
  },
  {
   "cell_type": "code",
   "execution_count": 14,
   "id": "38b868a5",
   "metadata": {},
   "outputs": [
    {
     "data": {
      "text/plain": [
       "-0.19274238738125593"
      ]
     },
     "execution_count": 14,
     "metadata": {},
     "output_type": "execute_result"
    }
   ],
   "source": [
    "# curtose de excesso\n",
    "\n",
    "curtose_de_excesso = curtose - 3\n",
    "curtose_de_excesso"
   ]
  }
 ],
 "metadata": {
  "kernelspec": {
   "display_name": "Python 3 (ipykernel)",
   "language": "python",
   "name": "python3"
  },
  "language_info": {
   "codemirror_mode": {
    "name": "ipython",
    "version": 3
   },
   "file_extension": ".py",
   "mimetype": "text/x-python",
   "name": "python",
   "nbconvert_exporter": "python",
   "pygments_lexer": "ipython3",
   "version": "3.8.10"
  }
 },
 "nbformat": 4,
 "nbformat_minor": 5
}
